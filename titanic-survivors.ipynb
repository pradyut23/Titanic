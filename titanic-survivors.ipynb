{
 "cells": [
  {
   "cell_type": "markdown",
   "metadata": {
    "papermill": {
     "duration": 0.036943,
     "end_time": "2020-09-11T15:05:25.826918",
     "exception": false,
     "start_time": "2020-09-11T15:05:25.789975",
     "status": "completed"
    },
    "tags": []
   },
   "source": [
    "# RMS Titanic\n",
    "\n",
    "Nobody saw the huge iceberg and the RMS Titanic sank to the bottom of the Atlantic Ocean on 15 April, 1912.\n",
    "It boarded 2224 passengers on it's maiden journey and out of those 1502 died.\n",
    "\n",
    "In this notebook I perform EDA on the passengers details and try to build a model to identify whether a specific group of people had a higher chance of survival or everybody was equally doomed.\n",
    "\n",
    "Not gonna talk about \"Rose, Jack and the Plank\" 😅"
   ]
  },
  {
   "cell_type": "code",
   "execution_count": 1,
   "metadata": {
    "_cell_guid": "b1076dfc-b9ad-4769-8c92-a6c4dae69d19",
    "_uuid": "8f2839f25d086af736a60e9eeb907d3b93b6e0e5",
    "execution": {
     "iopub.execute_input": "2020-09-11T15:05:25.905660Z",
     "iopub.status.busy": "2020-09-11T15:05:25.904466Z",
     "iopub.status.idle": "2020-09-11T15:05:25.908576Z",
     "shell.execute_reply": "2020-09-11T15:05:25.907875Z"
    },
    "papermill": {
     "duration": 0.047339,
     "end_time": "2020-09-11T15:05:25.908729",
     "exception": false,
     "start_time": "2020-09-11T15:05:25.861390",
     "status": "completed"
    },
    "tags": []
   },
   "outputs": [],
   "source": [
    "import numpy as np\n",
    "import pandas as pd\n",
    "pd.options.mode.chained_assignment = None"
   ]
  },
  {
   "cell_type": "markdown",
   "metadata": {
    "papermill": {
     "duration": 0.036241,
     "end_time": "2020-09-11T15:05:25.980997",
     "exception": false,
     "start_time": "2020-09-11T15:05:25.944756",
     "status": "completed"
    },
    "tags": []
   },
   "source": [
    "# 1. Reading Data and Generating Statistics"
   ]
  },
  {
   "cell_type": "code",
   "execution_count": 2,
   "metadata": {
    "_cell_guid": "79c7e3d0-c299-4dcb-8224-4455121ee9b0",
    "_uuid": "d629ff2d2480ee46fbb7e2d37f6b5fab8052498a",
    "execution": {
     "iopub.execute_input": "2020-09-11T15:05:26.071574Z",
     "iopub.status.busy": "2020-09-11T15:05:26.070665Z",
     "iopub.status.idle": "2020-09-11T15:05:26.122871Z",
     "shell.execute_reply": "2020-09-11T15:05:26.122230Z"
    },
    "papermill": {
     "duration": 0.103123,
     "end_time": "2020-09-11T15:05:26.123011",
     "exception": false,
     "start_time": "2020-09-11T15:05:26.019888",
     "status": "completed"
    },
    "tags": []
   },
   "outputs": [
    {
     "data": {
      "text/html": [
       "<div>\n",
       "<style scoped>\n",
       "    .dataframe tbody tr th:only-of-type {\n",
       "        vertical-align: middle;\n",
       "    }\n",
       "\n",
       "    .dataframe tbody tr th {\n",
       "        vertical-align: top;\n",
       "    }\n",
       "\n",
       "    .dataframe thead th {\n",
       "        text-align: right;\n",
       "    }\n",
       "</style>\n",
       "<table border=\"1\" class=\"dataframe\">\n",
       "  <thead>\n",
       "    <tr style=\"text-align: right;\">\n",
       "      <th></th>\n",
       "      <th>PassengerId</th>\n",
       "      <th>Survived</th>\n",
       "      <th>Pclass</th>\n",
       "      <th>Name</th>\n",
       "      <th>Sex</th>\n",
       "      <th>Age</th>\n",
       "      <th>SibSp</th>\n",
       "      <th>Parch</th>\n",
       "      <th>Ticket</th>\n",
       "      <th>Fare</th>\n",
       "      <th>Cabin</th>\n",
       "      <th>Embarked</th>\n",
       "    </tr>\n",
       "  </thead>\n",
       "  <tbody>\n",
       "    <tr>\n",
       "      <th>0</th>\n",
       "      <td>1</td>\n",
       "      <td>0</td>\n",
       "      <td>3</td>\n",
       "      <td>Braund, Mr. Owen Harris</td>\n",
       "      <td>male</td>\n",
       "      <td>22.0</td>\n",
       "      <td>1</td>\n",
       "      <td>0</td>\n",
       "      <td>A/5 21171</td>\n",
       "      <td>7.2500</td>\n",
       "      <td>NaN</td>\n",
       "      <td>S</td>\n",
       "    </tr>\n",
       "    <tr>\n",
       "      <th>1</th>\n",
       "      <td>2</td>\n",
       "      <td>1</td>\n",
       "      <td>1</td>\n",
       "      <td>Cumings, Mrs. John Bradley (Florence Briggs Th...</td>\n",
       "      <td>female</td>\n",
       "      <td>38.0</td>\n",
       "      <td>1</td>\n",
       "      <td>0</td>\n",
       "      <td>PC 17599</td>\n",
       "      <td>71.2833</td>\n",
       "      <td>C85</td>\n",
       "      <td>C</td>\n",
       "    </tr>\n",
       "    <tr>\n",
       "      <th>2</th>\n",
       "      <td>3</td>\n",
       "      <td>1</td>\n",
       "      <td>3</td>\n",
       "      <td>Heikkinen, Miss. Laina</td>\n",
       "      <td>female</td>\n",
       "      <td>26.0</td>\n",
       "      <td>0</td>\n",
       "      <td>0</td>\n",
       "      <td>STON/O2. 3101282</td>\n",
       "      <td>7.9250</td>\n",
       "      <td>NaN</td>\n",
       "      <td>S</td>\n",
       "    </tr>\n",
       "    <tr>\n",
       "      <th>3</th>\n",
       "      <td>4</td>\n",
       "      <td>1</td>\n",
       "      <td>1</td>\n",
       "      <td>Futrelle, Mrs. Jacques Heath (Lily May Peel)</td>\n",
       "      <td>female</td>\n",
       "      <td>35.0</td>\n",
       "      <td>1</td>\n",
       "      <td>0</td>\n",
       "      <td>113803</td>\n",
       "      <td>53.1000</td>\n",
       "      <td>C123</td>\n",
       "      <td>S</td>\n",
       "    </tr>\n",
       "    <tr>\n",
       "      <th>4</th>\n",
       "      <td>5</td>\n",
       "      <td>0</td>\n",
       "      <td>3</td>\n",
       "      <td>Allen, Mr. William Henry</td>\n",
       "      <td>male</td>\n",
       "      <td>35.0</td>\n",
       "      <td>0</td>\n",
       "      <td>0</td>\n",
       "      <td>373450</td>\n",
       "      <td>8.0500</td>\n",
       "      <td>NaN</td>\n",
       "      <td>S</td>\n",
       "    </tr>\n",
       "  </tbody>\n",
       "</table>\n",
       "</div>"
      ],
      "text/plain": [
       "   PassengerId  Survived  Pclass  \\\n",
       "0            1         0       3   \n",
       "1            2         1       1   \n",
       "2            3         1       3   \n",
       "3            4         1       1   \n",
       "4            5         0       3   \n",
       "\n",
       "                                                Name     Sex   Age  SibSp  \\\n",
       "0                            Braund, Mr. Owen Harris    male  22.0      1   \n",
       "1  Cumings, Mrs. John Bradley (Florence Briggs Th...  female  38.0      1   \n",
       "2                             Heikkinen, Miss. Laina  female  26.0      0   \n",
       "3       Futrelle, Mrs. Jacques Heath (Lily May Peel)  female  35.0      1   \n",
       "4                           Allen, Mr. William Henry    male  35.0      0   \n",
       "\n",
       "   Parch            Ticket     Fare Cabin Embarked  \n",
       "0      0         A/5 21171   7.2500   NaN        S  \n",
       "1      0          PC 17599  71.2833   C85        C  \n",
       "2      0  STON/O2. 3101282   7.9250   NaN        S  \n",
       "3      0            113803  53.1000  C123        S  \n",
       "4      0            373450   8.0500   NaN        S  "
      ]
     },
     "execution_count": 2,
     "metadata": {},
     "output_type": "execute_result"
    }
   ],
   "source": [
    "train=pd.read_csv('/kaggle/input/titanic/train.csv')\n",
    "train.head()"
   ]
  },
  {
   "cell_type": "code",
   "execution_count": 3,
   "metadata": {
    "execution": {
     "iopub.execute_input": "2020-09-11T15:05:26.202395Z",
     "iopub.status.busy": "2020-09-11T15:05:26.201507Z",
     "iopub.status.idle": "2020-09-11T15:05:26.219737Z",
     "shell.execute_reply": "2020-09-11T15:05:26.218893Z"
    },
    "papermill": {
     "duration": 0.061329,
     "end_time": "2020-09-11T15:05:26.219881",
     "exception": false,
     "start_time": "2020-09-11T15:05:26.158552",
     "status": "completed"
    },
    "tags": []
   },
   "outputs": [],
   "source": [
    "test=pd.read_csv('/kaggle/input/titanic/test.csv')\n",
    "pid=test.PassengerId"
   ]
  },
  {
   "cell_type": "code",
   "execution_count": 4,
   "metadata": {
    "execution": {
     "iopub.execute_input": "2020-09-11T15:05:26.303033Z",
     "iopub.status.busy": "2020-09-11T15:05:26.301734Z",
     "iopub.status.idle": "2020-09-11T15:05:26.307293Z",
     "shell.execute_reply": "2020-09-11T15:05:26.306621Z"
    },
    "papermill": {
     "duration": 0.049779,
     "end_time": "2020-09-11T15:05:26.307432",
     "exception": false,
     "start_time": "2020-09-11T15:05:26.257653",
     "status": "completed"
    },
    "tags": []
   },
   "outputs": [
    {
     "data": {
      "text/plain": [
       "PassengerId      int64\n",
       "Survived         int64\n",
       "Pclass           int64\n",
       "Name            object\n",
       "Sex             object\n",
       "Age            float64\n",
       "SibSp            int64\n",
       "Parch            int64\n",
       "Ticket          object\n",
       "Fare           float64\n",
       "Cabin           object\n",
       "Embarked        object\n",
       "dtype: object"
      ]
     },
     "execution_count": 4,
     "metadata": {},
     "output_type": "execute_result"
    }
   ],
   "source": [
    "train.dtypes"
   ]
  },
  {
   "cell_type": "code",
   "execution_count": 5,
   "metadata": {
    "execution": {
     "iopub.execute_input": "2020-09-11T15:05:26.434225Z",
     "iopub.status.busy": "2020-09-11T15:05:26.432877Z",
     "iopub.status.idle": "2020-09-11T15:05:26.438033Z",
     "shell.execute_reply": "2020-09-11T15:05:26.439952Z"
    },
    "papermill": {
     "duration": 0.082647,
     "end_time": "2020-09-11T15:05:26.440854",
     "exception": false,
     "start_time": "2020-09-11T15:05:26.358207",
     "status": "completed"
    },
    "tags": []
   },
   "outputs": [
    {
     "name": "stdout",
     "output_type": "stream",
     "text": [
      "<class 'pandas.core.frame.DataFrame'>\n",
      "RangeIndex: 891 entries, 0 to 890\n",
      "Data columns (total 12 columns):\n",
      " #   Column       Non-Null Count  Dtype  \n",
      "---  ------       --------------  -----  \n",
      " 0   PassengerId  891 non-null    int64  \n",
      " 1   Survived     891 non-null    int64  \n",
      " 2   Pclass       891 non-null    int64  \n",
      " 3   Name         891 non-null    object \n",
      " 4   Sex          891 non-null    object \n",
      " 5   Age          714 non-null    float64\n",
      " 6   SibSp        891 non-null    int64  \n",
      " 7   Parch        891 non-null    int64  \n",
      " 8   Ticket       891 non-null    object \n",
      " 9   Fare         891 non-null    float64\n",
      " 10  Cabin        204 non-null    object \n",
      " 11  Embarked     889 non-null    object \n",
      "dtypes: float64(2), int64(5), object(5)\n",
      "memory usage: 83.7+ KB\n"
     ]
    }
   ],
   "source": [
    "train.info()"
   ]
  },
  {
   "cell_type": "code",
   "execution_count": 6,
   "metadata": {
    "execution": {
     "iopub.execute_input": "2020-09-11T15:05:26.550175Z",
     "iopub.status.busy": "2020-09-11T15:05:26.549270Z",
     "iopub.status.idle": "2020-09-11T15:05:26.601944Z",
     "shell.execute_reply": "2020-09-11T15:05:26.602829Z"
    },
    "papermill": {
     "duration": 0.112469,
     "end_time": "2020-09-11T15:05:26.603042",
     "exception": false,
     "start_time": "2020-09-11T15:05:26.490573",
     "status": "completed"
    },
    "tags": []
   },
   "outputs": [
    {
     "name": "stdout",
     "output_type": "stream",
     "text": [
      "Train Set\n",
      "     PassengerId  Survived  Pclass Name  Sex  Age  SibSp  Parch Ticket  Fare  \\\n",
      "0            NaN       NaN     NaN  NaN  NaN  NaN    NaN    NaN    NaN   NaN   \n",
      "1            NaN       NaN     NaN  NaN  NaN  NaN    NaN    NaN    NaN   NaN   \n",
      "2            NaN       NaN     NaN  NaN  NaN  NaN    NaN    NaN    NaN   NaN   \n",
      "3            NaN       NaN     NaN  NaN  NaN  NaN    NaN    NaN    NaN   NaN   \n",
      "4            NaN       NaN     NaN  NaN  NaN  NaN    NaN    NaN    NaN   NaN   \n",
      "..           ...       ...     ...  ...  ...  ...    ...    ...    ...   ...   \n",
      "886          NaN       NaN     NaN  NaN  NaN  NaN    NaN    NaN    NaN   NaN   \n",
      "887          NaN       NaN     NaN  NaN  NaN  NaN    NaN    NaN    NaN   NaN   \n",
      "888          NaN       NaN     NaN  NaN  NaN  NaN    NaN    NaN    NaN   NaN   \n",
      "889          NaN       NaN     NaN  NaN  NaN  NaN    NaN    NaN    NaN   NaN   \n",
      "890          NaN       NaN     NaN  NaN  NaN  NaN    NaN    NaN    NaN   NaN   \n",
      "\n",
      "    Cabin Embarked  \n",
      "0     NaN      NaN  \n",
      "1     NaN      NaN  \n",
      "2     NaN      NaN  \n",
      "3     NaN      NaN  \n",
      "4     NaN      NaN  \n",
      "..    ...      ...  \n",
      "886   NaN      NaN  \n",
      "887   NaN      NaN  \n",
      "888   NaN      NaN  \n",
      "889   NaN      NaN  \n",
      "890   NaN      NaN  \n",
      "\n",
      "[891 rows x 12 columns]\n",
      "\n",
      "Test Set\n",
      "PassengerId      0\n",
      "Pclass           0\n",
      "Name             0\n",
      "Sex              0\n",
      "Age             86\n",
      "SibSp            0\n",
      "Parch            0\n",
      "Ticket           0\n",
      "Fare             1\n",
      "Cabin          327\n",
      "Embarked         0\n",
      "dtype: int64\n"
     ]
    }
   ],
   "source": [
    "#Null value count\n",
    "print('Train Set')\n",
    "print(train[train.isnull()])\n",
    "#print(train.isnull())\n",
    "print('\\nTest Set')\n",
    "print(test.isnull().sum())"
   ]
  },
  {
   "cell_type": "markdown",
   "metadata": {
    "papermill": {
     "duration": 0.037489,
     "end_time": "2020-09-11T15:05:26.678584",
     "exception": false,
     "start_time": "2020-09-11T15:05:26.641095",
     "status": "completed"
    },
    "tags": []
   },
   "source": [
    "# 2. Data Cleaning"
   ]
  },
  {
   "cell_type": "markdown",
   "metadata": {
    "papermill": {
     "duration": 0.040372,
     "end_time": "2020-09-11T15:05:26.758805",
     "exception": false,
     "start_time": "2020-09-11T15:05:26.718433",
     "status": "completed"
    },
    "tags": []
   },
   "source": [
    "### Filling Null Values"
   ]
  },
  {
   "cell_type": "code",
   "execution_count": 7,
   "metadata": {
    "execution": {
     "iopub.execute_input": "2020-09-11T15:05:26.848740Z",
     "iopub.status.busy": "2020-09-11T15:05:26.847516Z",
     "iopub.status.idle": "2020-09-11T15:05:26.851539Z",
     "shell.execute_reply": "2020-09-11T15:05:26.850620Z"
    },
    "papermill": {
     "duration": 0.05424,
     "end_time": "2020-09-11T15:05:26.851682",
     "exception": false,
     "start_time": "2020-09-11T15:05:26.797442",
     "status": "completed"
    },
    "tags": []
   },
   "outputs": [],
   "source": [
    "#Train dataset fillna\n",
    "train['Age']=train['Age'].fillna(train['Age'].median())\n",
    "train['Embarked']=train['Embarked'].fillna(train['Embarked'].mode()[0])\n",
    "\n",
    "#Test datset fillna\n",
    "test['Age']=test['Age'].fillna(test['Age'].median())\n",
    "test['Fare']=test['Fare'].fillna(test['Fare'].mean())"
   ]
  },
  {
   "cell_type": "code",
   "execution_count": 8,
   "metadata": {
    "execution": {
     "iopub.execute_input": "2020-09-11T15:05:26.937960Z",
     "iopub.status.busy": "2020-09-11T15:05:26.936841Z",
     "iopub.status.idle": "2020-09-11T15:05:26.941447Z",
     "shell.execute_reply": "2020-09-11T15:05:26.942019Z"
    },
    "papermill": {
     "duration": 0.054994,
     "end_time": "2020-09-11T15:05:26.942240",
     "exception": false,
     "start_time": "2020-09-11T15:05:26.887246",
     "status": "completed"
    },
    "tags": []
   },
   "outputs": [
    {
     "name": "stdout",
     "output_type": "stream",
     "text": [
      "Train Set\n",
      "PassengerId      0\n",
      "Survived         0\n",
      "Pclass           0\n",
      "Name             0\n",
      "Sex              0\n",
      "Age              0\n",
      "SibSp            0\n",
      "Parch            0\n",
      "Ticket           0\n",
      "Fare             0\n",
      "Cabin          687\n",
      "Embarked         0\n",
      "dtype: int64\n",
      "\n",
      "Test Set\n",
      "PassengerId      0\n",
      "Pclass           0\n",
      "Name             0\n",
      "Sex              0\n",
      "Age              0\n",
      "SibSp            0\n",
      "Parch            0\n",
      "Ticket           0\n",
      "Fare             0\n",
      "Cabin          327\n",
      "Embarked         0\n",
      "dtype: int64\n"
     ]
    }
   ],
   "source": [
    "#Null values count\n",
    "print('Train Set')\n",
    "print(train.isnull().sum())\n",
    "print('\\nTest Set')\n",
    "print(test.isnull().sum())"
   ]
  },
  {
   "cell_type": "markdown",
   "metadata": {
    "papermill": {
     "duration": 0.040337,
     "end_time": "2020-09-11T15:05:27.020963",
     "exception": false,
     "start_time": "2020-09-11T15:05:26.980626",
     "status": "completed"
    },
    "tags": []
   },
   "source": [
    "### Feature Engineering"
   ]
  },
  {
   "cell_type": "code",
   "execution_count": 9,
   "metadata": {
    "execution": {
     "iopub.execute_input": "2020-09-11T15:05:27.133516Z",
     "iopub.status.busy": "2020-09-11T15:05:27.126377Z",
     "iopub.status.idle": "2020-09-11T15:05:27.137809Z",
     "shell.execute_reply": "2020-09-11T15:05:27.136982Z"
    },
    "papermill": {
     "duration": 0.08051,
     "end_time": "2020-09-11T15:05:27.137980",
     "exception": false,
     "start_time": "2020-09-11T15:05:27.057470",
     "status": "completed"
    },
    "tags": []
   },
   "outputs": [],
   "source": [
    "#Creating new columns my merging or using previous columns\n",
    "for data in [train,test]:\n",
    "    data['FamilySize']=data['SibSp']+data['Parch']+1\n",
    "    data['IsAlone']=1\n",
    "    data['IsAlone'].loc[data['FamilySize']>1]=0\n",
    "    \n",
    "    #Gets the title from the name (Mr, Mrs, etc)\n",
    "    data['Title'] = data['Name'].str.split(\", \", expand=True)[1].str.split(\".\", expand=True)[0]"
   ]
  },
  {
   "cell_type": "code",
   "execution_count": 10,
   "metadata": {
    "execution": {
     "iopub.execute_input": "2020-09-11T15:05:27.241117Z",
     "iopub.status.busy": "2020-09-11T15:05:27.240096Z",
     "iopub.status.idle": "2020-09-11T15:05:27.246529Z",
     "shell.execute_reply": "2020-09-11T15:05:27.245728Z"
    },
    "papermill": {
     "duration": 0.0703,
     "end_time": "2020-09-11T15:05:27.246673",
     "exception": false,
     "start_time": "2020-09-11T15:05:27.176373",
     "status": "completed"
    },
    "tags": []
   },
   "outputs": [
    {
     "data": {
      "text/html": [
       "<div>\n",
       "<style scoped>\n",
       "    .dataframe tbody tr th:only-of-type {\n",
       "        vertical-align: middle;\n",
       "    }\n",
       "\n",
       "    .dataframe tbody tr th {\n",
       "        vertical-align: top;\n",
       "    }\n",
       "\n",
       "    .dataframe thead th {\n",
       "        text-align: right;\n",
       "    }\n",
       "</style>\n",
       "<table border=\"1\" class=\"dataframe\">\n",
       "  <thead>\n",
       "    <tr style=\"text-align: right;\">\n",
       "      <th></th>\n",
       "      <th>PassengerId</th>\n",
       "      <th>Survived</th>\n",
       "      <th>Pclass</th>\n",
       "      <th>Name</th>\n",
       "      <th>Sex</th>\n",
       "      <th>Age</th>\n",
       "      <th>SibSp</th>\n",
       "      <th>Parch</th>\n",
       "      <th>Ticket</th>\n",
       "      <th>Fare</th>\n",
       "      <th>Cabin</th>\n",
       "      <th>Embarked</th>\n",
       "      <th>FamilySize</th>\n",
       "      <th>IsAlone</th>\n",
       "      <th>Title</th>\n",
       "    </tr>\n",
       "  </thead>\n",
       "  <tbody>\n",
       "    <tr>\n",
       "      <th>0</th>\n",
       "      <td>1</td>\n",
       "      <td>0</td>\n",
       "      <td>3</td>\n",
       "      <td>Braund, Mr. Owen Harris</td>\n",
       "      <td>male</td>\n",
       "      <td>22.0</td>\n",
       "      <td>1</td>\n",
       "      <td>0</td>\n",
       "      <td>A/5 21171</td>\n",
       "      <td>7.2500</td>\n",
       "      <td>NaN</td>\n",
       "      <td>S</td>\n",
       "      <td>2</td>\n",
       "      <td>0</td>\n",
       "      <td>Mr</td>\n",
       "    </tr>\n",
       "    <tr>\n",
       "      <th>1</th>\n",
       "      <td>2</td>\n",
       "      <td>1</td>\n",
       "      <td>1</td>\n",
       "      <td>Cumings, Mrs. John Bradley (Florence Briggs Th...</td>\n",
       "      <td>female</td>\n",
       "      <td>38.0</td>\n",
       "      <td>1</td>\n",
       "      <td>0</td>\n",
       "      <td>PC 17599</td>\n",
       "      <td>71.2833</td>\n",
       "      <td>C85</td>\n",
       "      <td>C</td>\n",
       "      <td>2</td>\n",
       "      <td>0</td>\n",
       "      <td>Mrs</td>\n",
       "    </tr>\n",
       "    <tr>\n",
       "      <th>2</th>\n",
       "      <td>3</td>\n",
       "      <td>1</td>\n",
       "      <td>3</td>\n",
       "      <td>Heikkinen, Miss. Laina</td>\n",
       "      <td>female</td>\n",
       "      <td>26.0</td>\n",
       "      <td>0</td>\n",
       "      <td>0</td>\n",
       "      <td>STON/O2. 3101282</td>\n",
       "      <td>7.9250</td>\n",
       "      <td>NaN</td>\n",
       "      <td>S</td>\n",
       "      <td>1</td>\n",
       "      <td>1</td>\n",
       "      <td>Miss</td>\n",
       "    </tr>\n",
       "    <tr>\n",
       "      <th>3</th>\n",
       "      <td>4</td>\n",
       "      <td>1</td>\n",
       "      <td>1</td>\n",
       "      <td>Futrelle, Mrs. Jacques Heath (Lily May Peel)</td>\n",
       "      <td>female</td>\n",
       "      <td>35.0</td>\n",
       "      <td>1</td>\n",
       "      <td>0</td>\n",
       "      <td>113803</td>\n",
       "      <td>53.1000</td>\n",
       "      <td>C123</td>\n",
       "      <td>S</td>\n",
       "      <td>2</td>\n",
       "      <td>0</td>\n",
       "      <td>Mrs</td>\n",
       "    </tr>\n",
       "    <tr>\n",
       "      <th>4</th>\n",
       "      <td>5</td>\n",
       "      <td>0</td>\n",
       "      <td>3</td>\n",
       "      <td>Allen, Mr. William Henry</td>\n",
       "      <td>male</td>\n",
       "      <td>35.0</td>\n",
       "      <td>0</td>\n",
       "      <td>0</td>\n",
       "      <td>373450</td>\n",
       "      <td>8.0500</td>\n",
       "      <td>NaN</td>\n",
       "      <td>S</td>\n",
       "      <td>1</td>\n",
       "      <td>1</td>\n",
       "      <td>Mr</td>\n",
       "    </tr>\n",
       "  </tbody>\n",
       "</table>\n",
       "</div>"
      ],
      "text/plain": [
       "   PassengerId  Survived  Pclass  \\\n",
       "0            1         0       3   \n",
       "1            2         1       1   \n",
       "2            3         1       3   \n",
       "3            4         1       1   \n",
       "4            5         0       3   \n",
       "\n",
       "                                                Name     Sex   Age  SibSp  \\\n",
       "0                            Braund, Mr. Owen Harris    male  22.0      1   \n",
       "1  Cumings, Mrs. John Bradley (Florence Briggs Th...  female  38.0      1   \n",
       "2                             Heikkinen, Miss. Laina  female  26.0      0   \n",
       "3       Futrelle, Mrs. Jacques Heath (Lily May Peel)  female  35.0      1   \n",
       "4                           Allen, Mr. William Henry    male  35.0      0   \n",
       "\n",
       "   Parch            Ticket     Fare Cabin Embarked  FamilySize  IsAlone Title  \n",
       "0      0         A/5 21171   7.2500   NaN        S           2        0    Mr  \n",
       "1      0          PC 17599  71.2833   C85        C           2        0   Mrs  \n",
       "2      0  STON/O2. 3101282   7.9250   NaN        S           1        1  Miss  \n",
       "3      0            113803  53.1000  C123        S           2        0   Mrs  \n",
       "4      0            373450   8.0500   NaN        S           1        1    Mr  "
      ]
     },
     "execution_count": 10,
     "metadata": {},
     "output_type": "execute_result"
    }
   ],
   "source": [
    "train.head()"
   ]
  },
  {
   "cell_type": "code",
   "execution_count": 11,
   "metadata": {
    "execution": {
     "iopub.execute_input": "2020-09-11T15:05:27.341832Z",
     "iopub.status.busy": "2020-09-11T15:05:27.340532Z",
     "iopub.status.idle": "2020-09-11T15:05:27.346203Z",
     "shell.execute_reply": "2020-09-11T15:05:27.345468Z"
    },
    "papermill": {
     "duration": 0.058301,
     "end_time": "2020-09-11T15:05:27.346344",
     "exception": false,
     "start_time": "2020-09-11T15:05:27.288043",
     "status": "completed"
    },
    "tags": []
   },
   "outputs": [
    {
     "data": {
      "text/plain": [
       "Mr              517\n",
       "Miss            182\n",
       "Mrs             125\n",
       "Master           40\n",
       "Dr                7\n",
       "Rev               6\n",
       "Col               2\n",
       "Mlle              2\n",
       "Major             2\n",
       "Sir               1\n",
       "Lady              1\n",
       "Capt              1\n",
       "Jonkheer          1\n",
       "Don               1\n",
       "Ms                1\n",
       "Mme               1\n",
       "the Countess      1\n",
       "Name: Title, dtype: int64"
      ]
     },
     "execution_count": 11,
     "metadata": {},
     "output_type": "execute_result"
    }
   ],
   "source": [
    "train['Title'].value_counts()"
   ]
  },
  {
   "cell_type": "code",
   "execution_count": 12,
   "metadata": {
    "execution": {
     "iopub.execute_input": "2020-09-11T15:05:27.442424Z",
     "iopub.status.busy": "2020-09-11T15:05:27.441252Z",
     "iopub.status.idle": "2020-09-11T15:05:27.526860Z",
     "shell.execute_reply": "2020-09-11T15:05:27.524947Z"
    },
    "papermill": {
     "duration": 0.137074,
     "end_time": "2020-09-11T15:05:27.527090",
     "exception": false,
     "start_time": "2020-09-11T15:05:27.390016",
     "status": "completed"
    },
    "tags": []
   },
   "outputs": [
    {
     "name": "stdout",
     "output_type": "stream",
     "text": [
      "Train Set\n",
      " Mr        517\n",
      "Miss      185\n",
      "Mrs       127\n",
      "Master     40\n",
      "Misc       22\n",
      "Name: Title, dtype: int64\n",
      "\n",
      "Test Set\n",
      " Mr        240\n",
      "Miss       79\n",
      "Mrs        73\n",
      "Master     21\n",
      "Misc        5\n",
      "Name: Title, dtype: int64\n"
     ]
    }
   ],
   "source": [
    "#Too many unknown titles are there\n",
    "#Cleaning the 'Title column to just include [Mr, Mrs, Miss, Master, Misc]'\n",
    "#Misc contains all the unknown and gender neutral titles\n",
    "\n",
    "#Replacing known titles\n",
    "train['Title']=train['Title'].replace('Ms','Miss')\n",
    "train['Title']=train['Title'].replace('Mlle','Miss')\n",
    "train['Title']=train['Title'].replace('the Countess','Mrs')\n",
    "train['Title']=train['Title'].replace('Mme','Mrs')\n",
    "\n",
    "test['Title']=test['Title'].replace('Dona','Mrs')\n",
    "test['Title']=test['Title'].replace('Ms','Miss')\n",
    "\n",
    "#Replacing by misc\n",
    "names=(train['Title'].value_counts() < 10)\n",
    "train['Title']=train['Title'].apply(lambda x: 'Misc' if names.loc[x] == True else x)\n",
    "names=(test['Title'].value_counts() < 10)\n",
    "test['Title']=test['Title'].apply(lambda x: 'Misc' if names.loc[x] == True else x)\n",
    "\n",
    "print('Train Set\\n',train['Title'].value_counts())\n",
    "print('\\nTest Set\\n',test['Title'].value_counts())"
   ]
  },
  {
   "cell_type": "code",
   "execution_count": 13,
   "metadata": {
    "execution": {
     "iopub.execute_input": "2020-09-11T15:05:27.625504Z",
     "iopub.status.busy": "2020-09-11T15:05:27.624510Z",
     "iopub.status.idle": "2020-09-11T15:05:27.628179Z",
     "shell.execute_reply": "2020-09-11T15:05:27.628833Z"
    },
    "papermill": {
     "duration": 0.057742,
     "end_time": "2020-09-11T15:05:27.629016",
     "exception": false,
     "start_time": "2020-09-11T15:05:27.571274",
     "status": "completed"
    },
    "tags": []
   },
   "outputs": [],
   "source": [
    "#Drop columns\n",
    "columns=['PassengerId','Cabin','Ticket','Name']\n",
    "train=train.drop(columns,axis=1)\n",
    "test=test.drop(columns,axis=1)"
   ]
  },
  {
   "cell_type": "markdown",
   "metadata": {
    "papermill": {
     "duration": 0.045612,
     "end_time": "2020-09-11T15:05:27.718806",
     "exception": false,
     "start_time": "2020-09-11T15:05:27.673194",
     "status": "completed"
    },
    "tags": []
   },
   "source": [
    "### Categorical Encoding"
   ]
  },
  {
   "cell_type": "code",
   "execution_count": 14,
   "metadata": {
    "execution": {
     "iopub.execute_input": "2020-09-11T15:05:27.812851Z",
     "iopub.status.busy": "2020-09-11T15:05:27.811511Z",
     "iopub.status.idle": "2020-09-11T15:05:29.779908Z",
     "shell.execute_reply": "2020-09-11T15:05:29.778776Z"
    },
    "papermill": {
     "duration": 2.021631,
     "end_time": "2020-09-11T15:05:29.780300",
     "exception": false,
     "start_time": "2020-09-11T15:05:27.758669",
     "status": "completed"
    },
    "tags": []
   },
   "outputs": [
    {
     "data": {
      "text/html": [
       "<div>\n",
       "<style scoped>\n",
       "    .dataframe tbody tr th:only-of-type {\n",
       "        vertical-align: middle;\n",
       "    }\n",
       "\n",
       "    .dataframe tbody tr th {\n",
       "        vertical-align: top;\n",
       "    }\n",
       "\n",
       "    .dataframe thead th {\n",
       "        text-align: right;\n",
       "    }\n",
       "</style>\n",
       "<table border=\"1\" class=\"dataframe\">\n",
       "  <thead>\n",
       "    <tr style=\"text-align: right;\">\n",
       "      <th></th>\n",
       "      <th>Survived</th>\n",
       "      <th>Pclass</th>\n",
       "      <th>Sex</th>\n",
       "      <th>Age</th>\n",
       "      <th>SibSp</th>\n",
       "      <th>Parch</th>\n",
       "      <th>Fare</th>\n",
       "      <th>Embarked</th>\n",
       "      <th>FamilySize</th>\n",
       "      <th>IsAlone</th>\n",
       "      <th>Title</th>\n",
       "    </tr>\n",
       "  </thead>\n",
       "  <tbody>\n",
       "    <tr>\n",
       "      <th>0</th>\n",
       "      <td>0</td>\n",
       "      <td>3</td>\n",
       "      <td>1</td>\n",
       "      <td>22</td>\n",
       "      <td>1</td>\n",
       "      <td>0</td>\n",
       "      <td>7.2500</td>\n",
       "      <td>2</td>\n",
       "      <td>2</td>\n",
       "      <td>0</td>\n",
       "      <td>3</td>\n",
       "    </tr>\n",
       "    <tr>\n",
       "      <th>1</th>\n",
       "      <td>1</td>\n",
       "      <td>1</td>\n",
       "      <td>0</td>\n",
       "      <td>38</td>\n",
       "      <td>1</td>\n",
       "      <td>0</td>\n",
       "      <td>71.2833</td>\n",
       "      <td>0</td>\n",
       "      <td>2</td>\n",
       "      <td>0</td>\n",
       "      <td>4</td>\n",
       "    </tr>\n",
       "    <tr>\n",
       "      <th>2</th>\n",
       "      <td>1</td>\n",
       "      <td>3</td>\n",
       "      <td>0</td>\n",
       "      <td>26</td>\n",
       "      <td>0</td>\n",
       "      <td>0</td>\n",
       "      <td>7.9250</td>\n",
       "      <td>2</td>\n",
       "      <td>1</td>\n",
       "      <td>1</td>\n",
       "      <td>2</td>\n",
       "    </tr>\n",
       "    <tr>\n",
       "      <th>3</th>\n",
       "      <td>1</td>\n",
       "      <td>1</td>\n",
       "      <td>0</td>\n",
       "      <td>35</td>\n",
       "      <td>1</td>\n",
       "      <td>0</td>\n",
       "      <td>53.1000</td>\n",
       "      <td>2</td>\n",
       "      <td>2</td>\n",
       "      <td>0</td>\n",
       "      <td>4</td>\n",
       "    </tr>\n",
       "    <tr>\n",
       "      <th>4</th>\n",
       "      <td>0</td>\n",
       "      <td>3</td>\n",
       "      <td>1</td>\n",
       "      <td>35</td>\n",
       "      <td>0</td>\n",
       "      <td>0</td>\n",
       "      <td>8.0500</td>\n",
       "      <td>2</td>\n",
       "      <td>1</td>\n",
       "      <td>1</td>\n",
       "      <td>3</td>\n",
       "    </tr>\n",
       "  </tbody>\n",
       "</table>\n",
       "</div>"
      ],
      "text/plain": [
       "   Survived  Pclass  Sex  Age  SibSp  Parch     Fare  Embarked  FamilySize  \\\n",
       "0         0       3    1   22      1      0   7.2500         2           2   \n",
       "1         1       1    0   38      1      0  71.2833         0           2   \n",
       "2         1       3    0   26      0      0   7.9250         2           1   \n",
       "3         1       1    0   35      1      0  53.1000         2           2   \n",
       "4         0       3    1   35      0      0   8.0500         2           1   \n",
       "\n",
       "   IsAlone  Title  \n",
       "0        0      3  \n",
       "1        0      4  \n",
       "2        1      2  \n",
       "3        0      4  \n",
       "4        1      3  "
      ]
     },
     "execution_count": 14,
     "metadata": {},
     "output_type": "execute_result"
    }
   ],
   "source": [
    "#Converting categorical columns into numerical columns using LabelEncoder\n",
    "#LabelEncoder gives each unique str/char a numerical value starting from 0 \n",
    "from sklearn.preprocessing import LabelEncoder\n",
    "\n",
    "label=LabelEncoder()\n",
    "for data in [train,test]:\n",
    "    data['Sex']=label.fit_transform(data['Sex'])            # 0:Female, 1:Male\n",
    "    data['Embarked']=label.fit_transform(data['Embarked'])  # 0:C , 1:Q 2:S\n",
    "    data['Title']=label.fit_transform(data['Title'])        # 0:Master 1:Misc 2:Miss, 3:Mr, 4:Mrs\n",
    "    \n",
    "    data['Age']=data['Age'].astype('int64')\n",
    "      \n",
    "train.head()    "
   ]
  },
  {
   "cell_type": "markdown",
   "metadata": {
    "papermill": {
     "duration": 0.045679,
     "end_time": "2020-09-11T15:05:29.876351",
     "exception": false,
     "start_time": "2020-09-11T15:05:29.830672",
     "status": "completed"
    },
    "tags": []
   },
   "source": [
    "# 3. EDA and Visualization"
   ]
  },
  {
   "cell_type": "markdown",
   "metadata": {
    "papermill": {
     "duration": 0.047603,
     "end_time": "2020-09-11T15:05:29.969656",
     "exception": false,
     "start_time": "2020-09-11T15:05:29.922053",
     "status": "completed"
    },
    "tags": []
   },
   "source": [
    "### Statistics"
   ]
  },
  {
   "cell_type": "code",
   "execution_count": 15,
   "metadata": {
    "execution": {
     "iopub.execute_input": "2020-09-11T15:05:30.143353Z",
     "iopub.status.busy": "2020-09-11T15:05:30.091526Z",
     "iopub.status.idle": "2020-09-11T15:05:30.199659Z",
     "shell.execute_reply": "2020-09-11T15:05:30.198204Z"
    },
    "papermill": {
     "duration": 0.172156,
     "end_time": "2020-09-11T15:05:30.199846",
     "exception": false,
     "start_time": "2020-09-11T15:05:30.027690",
     "status": "completed"
    },
    "tags": []
   },
   "outputs": [
    {
     "name": "stdout",
     "output_type": "stream",
     "text": [
      "Survival Percentage By Sex\n",
      "   Sex  Survived\n",
      "0    0  0.742038\n",
      "1    1  0.188908 \n",
      "\n",
      "Survival Percentage By Pclass\n",
      "   Pclass  Survived\n",
      "0       1  0.629630\n",
      "1       2  0.472826\n",
      "2       3  0.242363 \n",
      "\n",
      "Survival Percentage By Embarked\n",
      "   Embarked  Survived\n",
      "0         0  0.553571\n",
      "1         1  0.389610\n",
      "2         2  0.339009 \n",
      "\n",
      "Survival Percentage By Title\n",
      "   Title  Survived\n",
      "0      0  0.575000\n",
      "1      1  0.318182\n",
      "2      2  0.702703\n",
      "3      3  0.156673\n",
      "4      4  0.795276 \n",
      "\n",
      "Survival Percentage By SibSp\n",
      "   SibSp  Survived\n",
      "0      0  0.345395\n",
      "1      1  0.535885\n",
      "2      2  0.464286\n",
      "3      3  0.250000\n",
      "4      4  0.166667\n",
      "5      5  0.000000\n",
      "6      8  0.000000 \n",
      "\n",
      "Survival Percentage By Parch\n",
      "   Parch  Survived\n",
      "0      0  0.343658\n",
      "1      1  0.550847\n",
      "2      2  0.500000\n",
      "3      3  0.600000\n",
      "4      4  0.000000\n",
      "5      5  0.200000\n",
      "6      6  0.000000 \n",
      "\n",
      "Survival Percentage By FamilySize\n",
      "   FamilySize  Survived\n",
      "0           1  0.303538\n",
      "1           2  0.552795\n",
      "2           3  0.578431\n",
      "3           4  0.724138\n",
      "4           5  0.200000\n",
      "5           6  0.136364\n",
      "6           7  0.333333\n",
      "7           8  0.000000\n",
      "8          11  0.000000 \n",
      "\n",
      "Survival Percentage By IsAlone\n",
      "   IsAlone  Survived\n",
      "0        0  0.505650\n",
      "1        1  0.303538 \n",
      "\n"
     ]
    }
   ],
   "source": [
    "#Percentage Survived for each category\n",
    "target=['Survived']\n",
    "selected=['Sex','Pclass','Embarked','Title','SibSp','Parch','FamilySize','IsAlone']\n",
    "for x in selected:\n",
    "    print('Survival Percentage By',x)\n",
    "    print(train[[x, target[0]]].groupby(x,as_index=False).mean(),'\\n')\n",
    "        \n",
    "# Sex - 0: Female, 1: Male\n",
    "# Embarked - 0: C, 1: Q, 2: S\n",
    "# Title - 0: Master, 1: Misc, 2. Miss, 3: Mr, 4: Mrs\n",
    "# IsAlone - 0:No, 1: Yes"
   ]
  },
  {
   "cell_type": "markdown",
   "metadata": {
    "papermill": {
     "duration": 0.054408,
     "end_time": "2020-09-11T15:05:30.307965",
     "exception": false,
     "start_time": "2020-09-11T15:05:30.253557",
     "status": "completed"
    },
    "tags": []
   },
   "source": [
    "### Visualization"
   ]
  },
  {
   "cell_type": "code",
   "execution_count": 16,
   "metadata": {
    "execution": {
     "iopub.execute_input": "2020-09-11T15:05:30.419902Z",
     "iopub.status.busy": "2020-09-11T15:05:30.418101Z",
     "iopub.status.idle": "2020-09-11T15:05:31.195764Z",
     "shell.execute_reply": "2020-09-11T15:05:31.193811Z"
    },
    "papermill": {
     "duration": 0.836861,
     "end_time": "2020-09-11T15:05:31.195935",
     "exception": false,
     "start_time": "2020-09-11T15:05:30.359074",
     "status": "completed"
    },
    "tags": []
   },
   "outputs": [
    {
     "data": {
      "text/plain": [
       "<matplotlib.legend.Legend at 0x7fb79fce9890>"
      ]
     },
     "execution_count": 16,
     "metadata": {},
     "output_type": "execute_result"
    },
    {
     "data": {
      "image/png": "[encoded data removed]",
      "text/plain": [
       "<Figure size 720x360 with 1 Axes>"
      ]
     },
     "metadata": {
      "needs_background": "light"
     },
     "output_type": "display_data"
    }
   ],
   "source": [
    "import matplotlib.pyplot as plt\n",
    "import seaborn as sns\n",
    "\n",
    "#Shows the ratio of survived:dead passengers according to age\n",
    "plt.figure(figsize=(10,5))\n",
    "plt.hist(x=[train[train['Survived']==1]['Age'], train[train['Survived']==0]['Age']], stacked=True, color = ['b','r'],label = ['Survived','Dead'])\n",
    "plt.title('Survival by Age')\n",
    "plt.xlabel('Age')\n",
    "plt.ylabel('# of Passengers')\n",
    "plt.legend()"
   ]
  },
  {
   "cell_type": "code",
   "execution_count": 17,
   "metadata": {
    "execution": {
     "iopub.execute_input": "2020-09-11T15:05:31.366726Z",
     "iopub.status.busy": "2020-09-11T15:05:31.365791Z",
     "iopub.status.idle": "2020-09-11T15:05:32.407308Z",
     "shell.execute_reply": "2020-09-11T15:05:32.406345Z"
    },
    "papermill": {
     "duration": 1.123936,
     "end_time": "2020-09-11T15:05:32.407473",
     "exception": false,
     "start_time": "2020-09-11T15:05:31.283537",
     "status": "completed"
    },
    "tags": []
   },
   "outputs": [
    {
     "data": {
      "text/plain": [
       "<matplotlib.axes._subplots.AxesSubplot at 0x7fb79fbc4910>"
      ]
     },
     "execution_count": 17,
     "metadata": {},
     "output_type": "execute_result"
    },
    {
     "data": {
      "image/png": "[encoded data removed]",
      "text/plain": [
       "<Figure size 1080x360 with 3 Axes>"
      ]
     },
     "metadata": {
      "needs_background": "light"
     },
     "output_type": "display_data"
    }
   ],
   "source": [
    "#Shows the percent Survival according to each Embarkment, Class and whether the passenger is alone or not\n",
    "fig,ax=plt.subplots(1, 3,figsize=(15,5))\n",
    "sns.barplot(x='Embarked',y='Survived',data=train,ax=ax[0])\n",
    "sns.barplot(x='Pclass',y='Survived',order=[1,2,3],data=train,ax=ax[1])\n",
    "sns.barplot(x='IsAlone',y='Survived',order=[1,0],data=train,ax=ax[2])"
   ]
  },
  {
   "cell_type": "markdown",
   "metadata": {
    "papermill": {
     "duration": 0.054379,
     "end_time": "2020-09-11T15:05:32.514362",
     "exception": false,
     "start_time": "2020-09-11T15:05:32.459983",
     "status": "completed"
    },
    "tags": []
   },
   "source": [
    "* More passengers embarking from Cherbourg survived than Queenstown and Southampton.\n",
    "* More passengers from Class 1 survived.\n",
    "* More passengers with thier families aboard were saved."
   ]
  },
  {
   "cell_type": "code",
   "execution_count": 18,
   "metadata": {
    "execution": {
     "iopub.execute_input": "2020-09-11T15:05:32.634125Z",
     "iopub.status.busy": "2020-09-11T15:05:32.633238Z",
     "iopub.status.idle": "2020-09-11T15:05:33.399994Z",
     "shell.execute_reply": "2020-09-11T15:05:33.399011Z"
    },
    "papermill": {
     "duration": 0.837162,
     "end_time": "2020-09-11T15:05:33.400183",
     "exception": false,
     "start_time": "2020-09-11T15:05:32.563021",
     "status": "completed"
    },
    "tags": []
   },
   "outputs": [
    {
     "data": {
      "text/plain": [
       "<matplotlib.axes._subplots.AxesSubplot at 0x7fb79fb02990>"
      ]
     },
     "execution_count": 18,
     "metadata": {},
     "output_type": "execute_result"
    },
    {
     "data": {
      "image/png": "[encoded data removed]",
      "text/plain": [
       "<Figure size 720x360 with 1 Axes>"
      ]
     },
     "metadata": {
      "needs_background": "light"
     },
     "output_type": "display_data"
    }
   ],
   "source": [
    "#Shows the survival of Passengers according to thier ticket price\n",
    "df=train.copy()\n",
    "df['Fare'] = pd.cut(df['Fare'], bins=[0, 50, 100, 150, 200, 250, 300,600])\n",
    "plt.figure(figsize=(10,5))\n",
    "sns.pointplot(x='Fare',y='Survived', data=df)"
   ]
  },
  {
   "cell_type": "markdown",
   "metadata": {
    "papermill": {
     "duration": 0.059871,
     "end_time": "2020-09-11T15:05:33.546651",
     "exception": false,
     "start_time": "2020-09-11T15:05:33.486780",
     "status": "completed"
    },
    "tags": []
   },
   "source": [
    "* Passengers with the most expensive ticket survived"
   ]
  },
  {
   "cell_type": "code",
   "execution_count": 19,
   "metadata": {
    "execution": {
     "iopub.execute_input": "2020-09-11T15:05:33.707055Z",
     "iopub.status.busy": "2020-09-11T15:05:33.705754Z",
     "iopub.status.idle": "2020-09-11T15:05:34.512913Z",
     "shell.execute_reply": "2020-09-11T15:05:34.513533Z"
    },
    "papermill": {
     "duration": 0.906215,
     "end_time": "2020-09-11T15:05:34.513721",
     "exception": false,
     "start_time": "2020-09-11T15:05:33.607506",
     "status": "completed"
    },
    "tags": []
   },
   "outputs": [
    {
     "data": {
      "text/plain": [
       "<matplotlib.axes._subplots.AxesSubplot at 0x7fb79fa8bb10>"
      ]
     },
     "execution_count": 19,
     "metadata": {},
     "output_type": "execute_result"
    },
    {
     "data": {
      "image/png": "[encoded data removed]",
      "text/plain": [
       "<Figure size 720x360 with 1 Axes>"
      ]
     },
     "metadata": {
      "needs_background": "light"
     },
     "output_type": "display_data"
    }
   ],
   "source": [
    "#Shows the survival of Passengers according to thier age\n",
    "df['Age'] = pd.cut(df['Age'], bins=[0,10,20,30,40,50,60,70,80])\n",
    "plt.figure(figsize=(10,5))\n",
    "sns.pointplot(x='Age',y='Survived', data=df)"
   ]
  },
  {
   "cell_type": "markdown",
   "metadata": {
    "papermill": {
     "duration": 0.054893,
     "end_time": "2020-09-11T15:05:34.626491",
     "exception": false,
     "start_time": "2020-09-11T15:05:34.571598",
     "status": "completed"
    },
    "tags": []
   },
   "source": [
    "* The younger passengers had a higher survival rate"
   ]
  },
  {
   "cell_type": "code",
   "execution_count": 20,
   "metadata": {
    "execution": {
     "iopub.execute_input": "2020-09-11T15:05:34.751029Z",
     "iopub.status.busy": "2020-09-11T15:05:34.750191Z",
     "iopub.status.idle": "2020-09-11T15:05:35.477426Z",
     "shell.execute_reply": "2020-09-11T15:05:35.475987Z"
    },
    "papermill": {
     "duration": 0.797643,
     "end_time": "2020-09-11T15:05:35.477584",
     "exception": false,
     "start_time": "2020-09-11T15:05:34.679941",
     "status": "completed"
    },
    "tags": []
   },
   "outputs": [
    {
     "data": {
      "text/plain": [
       "<matplotlib.axes._subplots.AxesSubplot at 0x7fb79fa01c50>"
      ]
     },
     "execution_count": 20,
     "metadata": {},
     "output_type": "execute_result"
    },
    {
     "data": {
      "image/png": "[encoded data removed]",
      "text/plain": [
       "<Figure size 720x360 with 1 Axes>"
      ]
     },
     "metadata": {
      "needs_background": "light"
     },
     "output_type": "display_data"
    }
   ],
   "source": [
    "#Survivals according to family size\n",
    "plt.figure(figsize=(10,5))\n",
    "sns.pointplot(x='FamilySize', y='Survived',data=train)"
   ]
  },
  {
   "cell_type": "markdown",
   "metadata": {
    "papermill": {
     "duration": 0.049316,
     "end_time": "2020-09-11T15:05:35.580594",
     "exception": false,
     "start_time": "2020-09-11T15:05:35.531278",
     "status": "completed"
    },
    "tags": []
   },
   "source": [
    "* More passengers with 4 family members were rescued.\n",
    "* Survival of passengers with more than 4 family members was significantly lower."
   ]
  },
  {
   "cell_type": "code",
   "execution_count": 21,
   "metadata": {
    "execution": {
     "iopub.execute_input": "2020-09-11T15:05:35.715388Z",
     "iopub.status.busy": "2020-09-11T15:05:35.714526Z",
     "iopub.status.idle": "2020-09-11T15:05:37.331095Z",
     "shell.execute_reply": "2020-09-11T15:05:37.329168Z"
    },
    "papermill": {
     "duration": 1.692099,
     "end_time": "2020-09-11T15:05:37.331434",
     "exception": false,
     "start_time": "2020-09-11T15:05:35.639335",
     "status": "completed"
    },
    "tags": []
   },
   "outputs": [
    {
     "data": {
      "text/plain": [
       "<matplotlib.axes._subplots.AxesSubplot at 0x7fb79f87e4d0>"
      ]
     },
     "execution_count": 21,
     "metadata": {},
     "output_type": "execute_result"
    },
    {
     "data": {
      "image/png": "[encoded data removed]",
      "text/plain": [
       "<Figure size 1440x504 with 3 Axes>"
      ]
     },
     "metadata": {
      "needs_background": "light"
     },
     "output_type": "display_data"
    }
   ],
   "source": [
    "#Survival of each sex on the basis of embarkment, class and whether the passenger is alone or not\n",
    "fig,ax=plt.subplots(1,3,figsize=(20,7))\n",
    "sns.barplot(x='Sex',y='Survived',hue='Embarked',data=train,ax=ax[0])\n",
    "sns.barplot(x='Sex',y='Survived',hue ='Pclass',data=train,ax=ax[1])\n",
    "sns.barplot(x='Sex',y='Survived',hue='IsAlone',data=train,ax=ax[2])"
   ]
  },
  {
   "cell_type": "markdown",
   "metadata": {
    "papermill": {
     "duration": 0.083495,
     "end_time": "2020-09-11T15:05:37.494325",
     "exception": false,
     "start_time": "2020-09-11T15:05:37.410830",
     "status": "completed"
    },
    "tags": []
   },
   "source": [
    "* Female survival rate is significantly higher than the male survival rate in each scenario"
   ]
  },
  {
   "cell_type": "markdown",
   "metadata": {
    "papermill": {
     "duration": 0.059212,
     "end_time": "2020-09-11T15:05:37.619823",
     "exception": false,
     "start_time": "2020-09-11T15:05:37.560611",
     "status": "completed"
    },
    "tags": []
   },
   "source": [
    "# 4. Model Data"
   ]
  },
  {
   "cell_type": "code",
   "execution_count": 22,
   "metadata": {
    "execution": {
     "iopub.execute_input": "2020-09-11T15:05:37.747478Z",
     "iopub.status.busy": "2020-09-11T15:05:37.746590Z",
     "iopub.status.idle": "2020-09-11T15:05:38.179984Z",
     "shell.execute_reply": "2020-09-11T15:05:38.180670Z"
    },
    "papermill": {
     "duration": 0.503396,
     "end_time": "2020-09-11T15:05:38.180883",
     "exception": false,
     "start_time": "2020-09-11T15:05:37.677487",
     "status": "completed"
    },
    "tags": []
   },
   "outputs": [],
   "source": [
    "#Selecting the independent and dependent variables\n",
    "from sklearn.model_selection import train_test_split\n",
    "from sklearn.ensemble import RandomForestClassifier\n",
    "\n",
    "target=train['Survived']\n",
    "train.drop(['Survived'],axis=1, inplace=True)"
   ]
  },
  {
   "cell_type": "code",
   "execution_count": 23,
   "metadata": {
    "execution": {
     "iopub.execute_input": "2020-09-11T15:05:38.310366Z",
     "iopub.status.busy": "2020-09-11T15:05:38.297618Z",
     "iopub.status.idle": "2020-09-11T15:05:43.562128Z",
     "shell.execute_reply": "2020-09-11T15:05:43.561170Z"
    },
    "papermill": {
     "duration": 5.326906,
     "end_time": "2020-09-11T15:05:43.562295",
     "exception": false,
     "start_time": "2020-09-11T15:05:38.235389",
     "status": "completed"
    },
    "tags": []
   },
   "outputs": [
    {
     "name": "stdout",
     "output_type": "stream",
     "text": [
      "Mean Absolute Errors:\n",
      "Random Forrest: 0.16201117318435754\n",
      "XGBoost: 0.24234957202186796\n",
      "Lasso: 0.2992625769625205\n",
      "GradientBoosting: 0.22985702868106164\n"
     ]
    }
   ],
   "source": [
    "#Training on different models\n",
    "from sklearn.metrics import mean_squared_error, mean_absolute_error\n",
    "from xgboost import XGBRegressor\n",
    "from sklearn.ensemble import RandomForestRegressor\n",
    "from sklearn.ensemble import GradientBoostingRegressor\n",
    "from lightgbm import LGBMRegressor\n",
    "from sklearn.model_selection import cross_val_score\n",
    "from catboost import CatBoostRegressor\n",
    "from sklearn.linear_model import LassoCV\n",
    "from sklearn.model_selection import train_test_split\n",
    "\n",
    "X_train, X_val, y_train, y_val = train_test_split(train, target, test_size=0.2, random_state=1, stratify=target)\n",
    "\n",
    "print('Mean Absolute Errors:')\n",
    "\n",
    "#RandomForestClassifier\n",
    "model = RandomForestClassifier(bootstrap=True, ccp_alpha=0.0, class_weight=None,\n",
    "                       criterion='gini', max_depth=4, max_features='auto',\n",
    "                       max_leaf_nodes=5, max_samples=None,\n",
    "                       min_impurity_decrease=0.0, min_impurity_split=None,\n",
    "                       min_samples_leaf=1, min_samples_split=15,\n",
    "                       min_weight_fraction_leaf=0.0, n_estimators=350,\n",
    "                       n_jobs=None, oob_score=True, random_state=1, verbose=0,\n",
    "                       warm_start=False)\n",
    "model.fit(X_train, y_train)\n",
    "predict = model.predict(X_val)\n",
    "print('Random Forrest: ' + str(mean_absolute_error(predict, y_val)))\n",
    "\n",
    "#XGBoost\n",
    "model = XGBRegressor(learning_rate=0.01, n_estimators=3460, max_depth=3, min_child_weight=0,\n",
    "                        gamma=0, subsample=0.7,colsample_bytree=0.7,objective='reg:squarederror',\n",
    "                        nthread=-1,scale_pos_weight=1, seed=27, reg_alpha=0.00006)\n",
    "model.fit(X_train, y_train)\n",
    "predict = model.predict(X_val)\n",
    "print('XGBoost: ' + str(mean_absolute_error(predict, y_val)))\n",
    "\n",
    "#LassoCV\n",
    "model = LassoCV(max_iter=1e7,  random_state=14, cv=10)\n",
    "model.fit(X_train, y_train)\n",
    "predict = model.predict(X_val)\n",
    "print('Lasso: ' + str(mean_absolute_error(predict, y_val)))\n",
    "\n",
    "# GradientBoosting   \n",
    "model = GradientBoostingRegressor(n_estimators=300, learning_rate=0.05, max_depth=4, random_state=5)\n",
    "model.fit(X_train, y_train)\n",
    "predict = model.predict(X_val)\n",
    "print('GradientBoosting: ' + str(mean_absolute_error(predict, y_val)))"
   ]
  },
  {
   "cell_type": "markdown",
   "metadata": {
    "papermill": {
     "duration": 0.083516,
     "end_time": "2020-09-11T15:05:43.700828",
     "exception": false,
     "start_time": "2020-09-11T15:05:43.617312",
     "status": "completed"
    },
    "tags": []
   },
   "source": [
    "* We get the best MAE value with Random Forrest Classifier\n",
    "* This shows that Regressor Models are not suitable for these kind of problems(Classification) as all the regressor models give very high value of MAE."
   ]
  },
  {
   "cell_type": "markdown",
   "metadata": {
    "papermill": {
     "duration": 0.060861,
     "end_time": "2020-09-11T15:05:43.849404",
     "exception": false,
     "start_time": "2020-09-11T15:05:43.788543",
     "status": "completed"
    },
    "tags": []
   },
   "source": [
    "# 5. Prediction"
   ]
  },
  {
   "cell_type": "code",
   "execution_count": 24,
   "metadata": {
    "execution": {
     "iopub.execute_input": "2020-09-11T15:05:44.004815Z",
     "iopub.status.busy": "2020-09-11T15:05:44.003597Z",
     "iopub.status.idle": "2020-09-11T15:05:45.857124Z",
     "shell.execute_reply": "2020-09-11T15:05:45.856251Z"
    },
    "papermill": {
     "duration": 1.942844,
     "end_time": "2020-09-11T15:05:45.857300",
     "exception": false,
     "start_time": "2020-09-11T15:05:43.914456",
     "status": "completed"
    },
    "tags": []
   },
   "outputs": [
    {
     "name": "stdout",
     "output_type": "stream",
     "text": [
      "Random Forest MAE: 0.16201117318435754\n",
      "Out of Bag Score: 0.8188\n",
      "Training accuracy:  0.8230337078651685\n",
      "Testing accuracy:  0.8379888268156425\n",
      "\n",
      "Confusion Matrix\n",
      "\n",
      "[[True Positive    False Positive]\n",
      "[False Negative    True Negative]]\n",
      "\n",
      "[[100  10]\n",
      " [ 19  50]]\n",
      "\n",
      "ROC AUC on evaluation set 0.8168642951251647\n"
     ]
    },
    {
     "data": {
      "image/png": "[encoded data removed]",
      "text/plain": [
       "<Figure size 432x288 with 1 Axes>"
      ]
     },
     "metadata": {
      "needs_background": "light"
     },
     "output_type": "display_data"
    }
   ],
   "source": [
    "#Predicting on the best model\n",
    "from sklearn.model_selection import cross_val_score\n",
    "from sklearn.metrics import accuracy_score, roc_curve,auc, confusion_matrix, classification_report\n",
    "import sklearn.metrics as metrics\n",
    "import matplotlib.pyplot as plt\n",
    "\n",
    "#RandomForestClassifier\n",
    "model=RandomForestClassifier(bootstrap=True, ccp_alpha=0.0, class_weight=None,\n",
    "                           criterion='gini', max_depth=4, max_features='auto',\n",
    "                           max_leaf_nodes=5, max_samples=None,\n",
    "                           min_impurity_decrease=0.0, min_impurity_split=None,\n",
    "                           min_samples_leaf=1, min_samples_split=15,\n",
    "                           min_weight_fraction_leaf=0.0, n_estimators=350,\n",
    "                           n_jobs=None, oob_score=True, random_state=1, verbose=0,\n",
    "                           warm_start=False)\n",
    "model.fit(X_train, y_train)\n",
    "predict = model.predict(X_val)\n",
    "print('Random Forest MAE: ' + str(mean_absolute_error(predict, y_val)))\n",
    "print(\"Out of Bag Score: %.4f\" % model.oob_score_)\n",
    "\n",
    "y_pred_train = model.predict(X_train)\n",
    "y_pred_test = model.predict(X_val)\n",
    "\n",
    "# Building the ROC Curve and Confusion Matrix\n",
    "print(\"Training accuracy: \", accuracy_score(y_train, y_pred_train))\n",
    "print(\"Testing accuracy: \", accuracy_score(y_val, y_pred_test))\n",
    "print(\"\\nConfusion Matrix\\n\")\n",
    "print('[[True Positive    False Positive]\\n[False Negative    True Negative]]\\n')\n",
    "print(confusion_matrix(y_val, y_pred_test))\n",
    "\n",
    "fpr, tpr, _ = roc_curve(y_val, y_pred_test)\n",
    "roc_auc = auc(fpr, tpr)\n",
    "print(\"\\nROC AUC on evaluation set\",roc_auc )\n",
    "\n",
    "plt.figure()\n",
    "plt.plot(fpr, tpr, label='ROC curve (area = %0.2f)' % roc_auc)\n",
    "plt.plot([0, 1], [0, 1], 'k--')\n",
    "plt.xlim([0.0, 1.0])\n",
    "plt.ylim([0.0, 1.05])\n",
    "plt.xlabel('False Positive Rate')\n",
    "plt.ylabel('True Positive Rate')\n",
    "plt.title('ROC Curve')\n",
    "plt.legend(loc=\"lower right\")\n",
    "plt.show()"
   ]
  },
  {
   "cell_type": "code",
   "execution_count": 25,
   "metadata": {
    "execution": {
     "iopub.execute_input": "2020-09-11T15:05:46.022458Z",
     "iopub.status.busy": "2020-09-11T15:05:46.020852Z",
     "iopub.status.idle": "2020-09-11T15:05:46.246807Z",
     "shell.execute_reply": "2020-09-11T15:05:46.245601Z"
    },
    "papermill": {
     "duration": 0.31671,
     "end_time": "2020-09-11T15:05:46.246976",
     "exception": false,
     "start_time": "2020-09-11T15:05:45.930266",
     "status": "completed"
    },
    "tags": []
   },
   "outputs": [
    {
     "data": {
      "text/plain": [
       "array([0, 1, 0, 0, 1, 0, 1, 0, 1, 0, 0, 0, 1, 0, 1, 1, 0, 0, 1, 1, 0, 0,\n",
       "       1, 0, 1, 0, 1, 0, 0, 0, 0, 0, 1, 1, 0, 0, 1, 1, 0, 0, 0, 0, 0, 1,\n",
       "       1, 0, 0, 0, 1, 1, 0, 0, 1, 1, 0, 0, 0, 0, 0, 1, 0, 0, 0, 1, 0, 1,\n",
       "       1, 0, 0, 1, 1, 0, 1, 0, 1, 0, 0, 1, 0, 1, 0, 0, 0, 0, 0, 0, 1, 1,\n",
       "       1, 1, 1, 0, 1, 0, 0, 0, 1, 0, 1, 0, 1, 0, 0, 0, 1, 0, 0, 0, 0, 0,\n",
       "       0, 1, 1, 1, 1, 0, 0, 1, 0, 1, 1, 0, 1, 0, 0, 1, 0, 1, 0, 0, 0, 0,\n",
       "       0, 0, 0, 0, 0, 0, 1, 0, 0, 1, 0, 0, 0, 0, 0, 0, 0, 0, 1, 0, 0, 1,\n",
       "       0, 0, 1, 1, 0, 1, 1, 0, 1, 0, 0, 1, 0, 0, 1, 1, 0, 0, 0, 0, 0, 1,\n",
       "       1, 0, 1, 1, 0, 0, 1, 0, 1, 0, 1, 0, 0, 0, 0, 0, 0, 0, 0, 0, 1, 1,\n",
       "       0, 1, 1, 1, 0, 1, 0, 0, 1, 0, 1, 0, 0, 0, 0, 1, 0, 0, 1, 0, 1, 0,\n",
       "       1, 0, 1, 0, 1, 1, 0, 1, 0, 0, 0, 1, 0, 0, 0, 0, 0, 0, 1, 1, 1, 1,\n",
       "       0, 0, 0, 0, 1, 0, 1, 1, 1, 0, 0, 0, 0, 0, 0, 0, 1, 0, 0, 0, 1, 1,\n",
       "       0, 0, 0, 0, 1, 0, 0, 0, 1, 1, 0, 1, 0, 0, 0, 0, 1, 1, 1, 1, 1, 0,\n",
       "       0, 0, 0, 0, 0, 1, 0, 0, 0, 0, 1, 0, 0, 0, 0, 0, 0, 0, 1, 1, 0, 1,\n",
       "       0, 1, 0, 0, 0, 1, 1, 1, 0, 0, 0, 0, 0, 0, 0, 0, 1, 0, 1, 0, 0, 0,\n",
       "       1, 0, 0, 1, 0, 0, 0, 0, 0, 0, 0, 0, 0, 1, 0, 1, 0, 1, 0, 1, 1, 0,\n",
       "       0, 0, 1, 0, 1, 0, 0, 1, 0, 1, 1, 0, 1, 0, 0, 1, 1, 0, 0, 1, 0, 0,\n",
       "       1, 1, 1, 0, 0, 0, 0, 0, 1, 1, 0, 1, 0, 0, 0, 0, 0, 1, 0, 0, 0, 1,\n",
       "       0, 1, 0, 0, 1, 0, 1, 0, 0, 0, 0, 0, 1, 1, 1, 1, 1, 0, 1, 0, 0, 0])"
      ]
     },
     "execution_count": 25,
     "metadata": {},
     "output_type": "execute_result"
    }
   ],
   "source": [
    "#Prediction\n",
    "prediction=model.predict(test)\n",
    "prediction"
   ]
  },
  {
   "cell_type": "markdown",
   "metadata": {
    "papermill": {
     "duration": 0.074296,
     "end_time": "2020-09-11T15:05:46.394465",
     "exception": false,
     "start_time": "2020-09-11T15:05:46.320169",
     "status": "completed"
    },
    "tags": []
   },
   "source": [
    "# 6. Submission"
   ]
  },
  {
   "cell_type": "code",
   "execution_count": 26,
   "metadata": {
    "execution": {
     "iopub.execute_input": "2020-09-11T15:05:46.559463Z",
     "iopub.status.busy": "2020-09-11T15:05:46.558593Z",
     "iopub.status.idle": "2020-09-11T15:05:46.679571Z",
     "shell.execute_reply": "2020-09-11T15:05:46.677905Z"
    },
    "papermill": {
     "duration": 0.202918,
     "end_time": "2020-09-11T15:05:46.679818",
     "exception": false,
     "start_time": "2020-09-11T15:05:46.476900",
     "status": "completed"
    },
    "tags": []
   },
   "outputs": [
    {
     "name": "stdout",
     "output_type": "stream",
     "text": [
      "Submission successfully saved!\n"
     ]
    }
   ],
   "source": [
    "output = pd.DataFrame({'PassengerId': pid, 'Survived': prediction})\n",
    "output.to_csv('my_submission.csv', index=False)\n",
    "print(\"Submission successfully saved!\")"
   ]
  },
  {
   "cell_type": "markdown",
   "metadata": {
    "papermill": {
     "duration": 0.077127,
     "end_time": "2020-09-11T15:05:46.829652",
     "exception": false,
     "start_time": "2020-09-11T15:05:46.752525",
     "status": "completed"
    },
    "tags": []
   },
   "source": [
    "# Conclusion\n",
    "* Females had better chance of survival in comparison to males.\n",
    "* Younger passengers had better chance of survival than the older ones.\n",
    "* Loners had less chance of survival.\n",
    "* More Class 1 passengers survived comparitively."
   ]
  },
  {
   "cell_type": "markdown",
   "metadata": {
    "papermill": {
     "duration": 0.068459,
     "end_time": "2020-09-11T15:05:46.971902",
     "exception": false,
     "start_time": "2020-09-11T15:05:46.903443",
     "status": "completed"
    },
    "tags": []
   },
   "source": [
    "### This gives an idea as to which group had better chances of survival in the tragedy.\n",
    "\n",
    "#### Completely unrelated thought from the notebook: \"Jack could have been saved if Rose scooted just a little bit on that plank!\" 😂"
   ]
  },
  {
   "cell_type": "markdown",
   "metadata": {
    "papermill": {
     "duration": 0.069166,
     "end_time": "2020-09-11T15:05:47.114975",
     "exception": false,
     "start_time": "2020-09-11T15:05:47.045809",
     "status": "completed"
    },
    "tags": []
   },
   "source": [
    "# Thank You 🙏"
   ]
  }
 ],
 "metadata": {
  "kernelspec": {
   "display_name": "Python 3",
   "language": "python",
   "name": "python3"
  },
  "language_info": {
   "codemirror_mode": {
    "name": "ipython",
    "version": 3
   },
   "file_extension": ".py",
   "mimetype": "text/x-python",
   "name": "python",
   "nbconvert_exporter": "python",
   "pygments_lexer": "ipython3",
   "version": "3.7.6"
  },
  "papermill": {
   "duration": 27.817661,
   "end_time": "2020-09-11T15:05:47.309473",
   "environment_variables": {},
   "exception": null,
   "input_path": "__notebook__.ipynb",
   "output_path": "__notebook__.ipynb",
   "parameters": {},
   "start_time": "2020-09-11T15:05:19.491812",
   "version": "2.1.0"
  }
 },
 "nbformat": 4,
 "nbformat_minor": 4
}
